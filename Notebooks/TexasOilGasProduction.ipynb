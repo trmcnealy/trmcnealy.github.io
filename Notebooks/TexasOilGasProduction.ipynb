{
 "cells": [
  {
   "cell_type": "code",
   "execution_count": 1,
   "metadata": {},
   "outputs": [
    {
     "data": {
      "text/html": [
       "Installing package VegaLite.NET, version 1.0.2..........done!"
      ]
     },
     "metadata": {},
     "output_type": "display_data"
    },
    {
     "data": {
      "text/html": [
       "Successfully added reference to package VegaLite.NET, version 1.0.2"
      ]
     },
     "metadata": {},
     "output_type": "display_data"
    },
    {
     "data": {
      "text/html": [
       "Installing package OilGas.Data, version 1.0.1....done!"
      ]
     },
     "metadata": {},
     "output_type": "display_data"
    },
    {
     "data": {
      "text/html": [
       "Successfully added reference to package OilGas.Data, version 1.0.1"
      ]
     },
     "metadata": {},
     "output_type": "display_data"
    }
   ],
   "source": [
    "#r \"nuget:VegaLite.NET,1.0.2\"\n",
    "#r \"nuget:OilGas.Data,1.0.1\""
   ]
  },
  {
   "cell_type": "code",
   "execution_count": 6,
   "metadata": {},
   "outputs": [],
   "source": [
    "using VegaLite;\n",
    "using OilGas.Data;\n",
    "using OilGas.Data.RRC.Texas;"
   ]
  },
  {
   "cell_type": "code",
   "execution_count": 12,
   "metadata": {},
   "outputs": [],
   "source": [
    "ApiNumber api = \"42-285-33615\";\n",
    "\n",
    "WellProduction wellProduction = RrcTexasDataAdapter.GetProductionByApi(api).Result;\n",
    "\n",
    "Chart chart = wellProduction.BuildChart();"
   ]
  },
  {
   "cell_type": "code",
   "execution_count": 13,
   "metadata": {},
   "outputs": [],
   "source": [
    "Formatter<Chart>.Register((chart, writer) =>\n",
    "{\n",
    "    writer.Write(chart.ToString());\n",
    "}, HtmlFormatter.MimeType);"
   ]
  },
  {
   "cell_type": "code",
   "execution_count": 14,
   "metadata": {},
   "outputs": [
    {
     "data": {
      "text/html": [
       "<!DOCTYPE html>\n",
       "<html>\n",
       "  <head>\n",
       "    <title>Vega-Lite Chart</title>\n",
       "    <meta charset=\"utf-8\" />\n",
       "    <script src=\"https://cdn.jsdelivr.net/npm/vega@5.9.0\"></script>\n",
       "    <script src=\"https://cdn.jsdelivr.net/npm/vega-lite@4.0.2\"></script>\n",
       "    <script src=\"https://cdn.jsdelivr.net/npm/vega-embed@6.2.1\"></script>\n",
       "    <style media=\"screen\">\n",
       "      .vega-actions a {\n",
       "        margin-right: 5px;\n",
       "      }\n",
       "    </style>\n",
       "  </head>\n",
       "  <body>\n",
       "    <h1>Monthly Production</h1>\n",
       "    <div id=\"vis1a842e78-5717-4357-9e40-07e913313871\"></div>\n",
       "    <script>\n",
       "      var vlSpec = {\"$schema\":\"https://vega.github.io/schema/vega-lite/v4.json\",\"data\":{\"values\":[{\"API\":\"42-285-33615-00-00\",\"Month\":1,\"MonthlyOil\":0.0,\"MonthlyGas\":0.0},{\"API\":\"42-285-33615-00-00\",\"Month\":2,\"MonthlyOil\":0.0,\"MonthlyGas\":0.0},{\"API\":\"42-285-33615-00-00\",\"Month\":3,\"MonthlyOil\":0.0,\"MonthlyGas\":0.0},{\"API\":\"42-285-33615-00-00\",\"Month\":4,\"MonthlyOil\":30012.0,\"MonthlyGas\":20036.0},{\"API\":\"42-285-33615-00-00\",\"Month\":5,\"MonthlyOil\":32388.0,\"MonthlyGas\":18417.0},{\"API\":\"42-285-33615-00-00\",\"Month\":6,\"MonthlyOil\":21359.0,\"MonthlyGas\":13365.0},{\"API\":\"42-285-33615-00-00\",\"Month\":7,\"MonthlyOil\":19865.0,\"MonthlyGas\":11581.0},{\"API\":\"42-285-33615-00-00\",\"Month\":8,\"MonthlyOil\":14597.0,\"MonthlyGas\":7949.0},{\"API\":\"42-285-33615-00-00\",\"Month\":9,\"MonthlyOil\":18515.0,\"MonthlyGas\":12501.0},{\"API\":\"42-285-33615-00-00\",\"Month\":10,\"MonthlyOil\":14526.0,\"MonthlyGas\":8622.0},{\"API\":\"42-285-33615-00-00\",\"Month\":11,\"MonthlyOil\":12204.0,\"MonthlyGas\":8581.0},{\"API\":\"42-285-33615-00-00\",\"Month\":12,\"MonthlyOil\":9078.0,\"MonthlyGas\":5064.0},{\"API\":\"42-285-33615-00-00\",\"Month\":13,\"MonthlyOil\":7882.0,\"MonthlyGas\":4820.0},{\"API\":\"42-285-33615-00-00\",\"Month\":14,\"MonthlyOil\":8850.0,\"MonthlyGas\":5292.0},{\"API\":\"42-285-33615-00-00\",\"Month\":15,\"MonthlyOil\":7502.0,\"MonthlyGas\":4289.0},{\"API\":\"42-285-33615-00-00\",\"Month\":16,\"MonthlyOil\":6335.0,\"MonthlyGas\":3204.0},{\"API\":\"42-285-33615-00-00\",\"Month\":17,\"MonthlyOil\":5781.0,\"MonthlyGas\":2969.0},{\"API\":\"42-285-33615-00-00\",\"Month\":18,\"MonthlyOil\":7406.0,\"MonthlyGas\":4077.0},{\"API\":\"42-285-33615-00-00\",\"Month\":19,\"MonthlyOil\":6111.0,\"MonthlyGas\":3783.0},{\"API\":\"42-285-33615-00-00\",\"Month\":20,\"MonthlyOil\":5981.0,\"MonthlyGas\":3771.0},{\"API\":\"42-285-33615-00-00\",\"Month\":21,\"MonthlyOil\":6210.0,\"MonthlyGas\":4310.0},{\"API\":\"42-285-33615-00-00\",\"Month\":22,\"MonthlyOil\":5568.0,\"MonthlyGas\":3604.0},{\"API\":\"42-285-33615-00-00\",\"Month\":23,\"MonthlyOil\":1484.0,\"MonthlyGas\":776.0},{\"API\":\"42-285-33615-00-00\",\"Month\":24,\"MonthlyOil\":2449.0,\"MonthlyGas\":1271.0},{\"API\":\"42-285-33615-00-00\",\"Month\":25,\"MonthlyOil\":2672.0,\"MonthlyGas\":1275.0},{\"API\":\"42-285-33615-00-00\",\"Month\":26,\"MonthlyOil\":3552.0,\"MonthlyGas\":2208.0},{\"API\":\"42-285-33615-00-00\",\"Month\":27,\"MonthlyOil\":2953.0,\"MonthlyGas\":1401.0},{\"API\":\"42-285-33615-00-00\",\"Month\":28,\"MonthlyOil\":4340.0,\"MonthlyGas\":1581.0},{\"API\":\"42-285-33615-00-00\",\"Month\":29,\"MonthlyOil\":3825.0,\"MonthlyGas\":1545.0},{\"API\":\"42-285-33615-00-00\",\"Month\":30,\"MonthlyOil\":4036.0,\"MonthlyGas\":2632.0},{\"API\":\"42-285-33615-00-00\",\"Month\":31,\"MonthlyOil\":2431.0,\"MonthlyGas\":1084.0},{\"API\":\"42-285-33615-00-00\",\"Month\":32,\"MonthlyOil\":2789.0,\"MonthlyGas\":583.0},{\"API\":\"42-285-33615-00-00\",\"Month\":33,\"MonthlyOil\":1932.0,\"MonthlyGas\":805.0},{\"API\":\"42-285-33615-00-00\",\"Month\":34,\"MonthlyOil\":1771.0,\"MonthlyGas\":618.0},{\"API\":\"42-285-33615-00-00\",\"Month\":35,\"MonthlyOil\":3211.0,\"MonthlyGas\":1663.0},{\"API\":\"42-285-33615-00-00\",\"Month\":36,\"MonthlyOil\":3994.0,\"MonthlyGas\":2205.0},{\"API\":\"42-285-33615-00-00\",\"Month\":37,\"MonthlyOil\":3075.0,\"MonthlyGas\":1788.0},{\"API\":\"42-285-33615-00-00\",\"Month\":38,\"MonthlyOil\":1243.0,\"MonthlyGas\":581.0},{\"API\":\"42-285-33615-00-00\",\"Month\":39,\"MonthlyOil\":584.0,\"MonthlyGas\":282.0},{\"API\":\"42-285-33615-00-00\",\"Month\":40,\"MonthlyOil\":1059.0,\"MonthlyGas\":479.0},{\"API\":\"42-285-33615-00-00\",\"Month\":41,\"MonthlyOil\":937.0,\"MonthlyGas\":420.0},{\"API\":\"42-285-33615-00-00\",\"Month\":42,\"MonthlyOil\":1253.0,\"MonthlyGas\":533.0},{\"API\":\"42-285-33615-00-00\",\"Month\":43,\"MonthlyOil\":1063.0,\"MonthlyGas\":550.0},{\"API\":\"42-285-33615-00-00\",\"Month\":44,\"MonthlyOil\":1132.0,\"MonthlyGas\":317.0},{\"API\":\"42-285-33615-00-00\",\"Month\":45,\"MonthlyOil\":893.0,\"MonthlyGas\":89.0},{\"API\":\"42-285-33615-00-00\",\"Month\":46,\"MonthlyOil\":296.0,\"MonthlyGas\":112.0},{\"API\":\"42-285-33615-00-00\",\"Month\":47,\"MonthlyOil\":1851.0,\"MonthlyGas\":778.0},{\"API\":\"42-285-33615-00-00\",\"Month\":48,\"MonthlyOil\":1514.0,\"MonthlyGas\":532.0},{\"API\":\"42-285-33615-00-00\",\"Month\":49,\"MonthlyOil\":1630.0,\"MonthlyGas\":662.0},{\"API\":\"42-285-33615-00-00\",\"Month\":50,\"MonthlyOil\":1267.0,\"MonthlyGas\":497.0},{\"API\":\"42-285-33615-00-00\",\"Month\":51,\"MonthlyOil\":1230.0,\"MonthlyGas\":672.0},{\"API\":\"42-285-33615-00-00\",\"Month\":52,\"MonthlyOil\":1560.0,\"MonthlyGas\":979.0},{\"API\":\"42-285-33615-00-00\",\"Month\":53,\"MonthlyOil\":583.0,\"MonthlyGas\":339.0},{\"API\":\"42-285-33615-00-00\",\"Month\":54,\"MonthlyOil\":0.0,\"MonthlyGas\":0.0},{\"API\":\"42-285-33615-00-00\",\"Month\":55,\"MonthlyOil\":1565.0,\"MonthlyGas\":853.0},{\"API\":\"42-285-33615-00-00\",\"Month\":56,\"MonthlyOil\":1751.0,\"MonthlyGas\":846.0},{\"API\":\"42-285-33615-00-00\",\"Month\":57,\"MonthlyOil\":1278.0,\"MonthlyGas\":817.0},{\"API\":\"42-285-33615-00-00\",\"Month\":58,\"MonthlyOil\":219.0,\"MonthlyGas\":93.0},{\"API\":\"42-285-33615-00-00\",\"Month\":59,\"MonthlyOil\":1295.0,\"MonthlyGas\":488.0},{\"API\":\"42-285-33615-00-00\",\"Month\":60,\"MonthlyOil\":1340.0,\"MonthlyGas\":927.0},{\"API\":\"42-285-33615-00-00\",\"Month\":61,\"MonthlyOil\":1498.0,\"MonthlyGas\":799.0},{\"API\":\"42-285-33615-00-00\",\"Month\":62,\"MonthlyOil\":1128.0,\"MonthlyGas\":634.0},{\"API\":\"42-285-33615-00-00\",\"Month\":63,\"MonthlyOil\":1089.0,\"MonthlyGas\":695.0},{\"API\":\"42-285-33615-00-00\",\"Month\":64,\"MonthlyOil\":1138.0,\"MonthlyGas\":659.0},{\"API\":\"42-285-33615-00-00\",\"Month\":65,\"MonthlyOil\":1095.0,\"MonthlyGas\":607.0},{\"API\":\"42-285-33615-00-00\",\"Month\":66,\"MonthlyOil\":1013.0,\"MonthlyGas\":547.0},{\"API\":\"42-285-33615-00-00\",\"Month\":67,\"MonthlyOil\":1011.0,\"MonthlyGas\":503.0},{\"API\":\"42-285-33615-00-00\",\"Month\":68,\"MonthlyOil\":888.0,\"MonthlyGas\":640.0},{\"API\":\"42-285-33615-00-00\",\"Month\":69,\"MonthlyOil\":996.0,\"MonthlyGas\":465.0},{\"API\":\"42-285-33615-00-00\",\"Month\":70,\"MonthlyOil\":592.0,\"MonthlyGas\":351.0},{\"API\":\"42-285-33615-00-00\",\"Month\":71,\"MonthlyOil\":100.0,\"MonthlyGas\":1.0},{\"API\":\"42-285-33615-00-00\",\"Month\":72,\"MonthlyOil\":433.0,\"MonthlyGas\":0.0},{\"API\":\"42-285-33615-00-00\",\"Month\":73,\"MonthlyOil\":872.0,\"MonthlyGas\":21.0},{\"API\":\"42-285-33615-00-00\",\"Month\":74,\"MonthlyOil\":1384.0,\"MonthlyGas\":318.0},{\"API\":\"42-285-33615-00-00\",\"Month\":75,\"MonthlyOil\":586.0,\"MonthlyGas\":353.0},{\"API\":\"42-285-33615-00-00\",\"Month\":76,\"MonthlyOil\":2.0,\"MonthlyGas\":0.0},{\"API\":\"42-285-33615-00-00\",\"Month\":77,\"MonthlyOil\":119.0,\"MonthlyGas\":4.0},{\"API\":\"42-285-33615-00-00\",\"Month\":78,\"MonthlyOil\":1608.0,\"MonthlyGas\":619.0},{\"API\":\"42-285-33615-00-00\",\"Month\":79,\"MonthlyOil\":976.0,\"MonthlyGas\":400.0},{\"API\":\"42-285-33615-00-00\",\"Month\":80,\"MonthlyOil\":824.0,\"MonthlyGas\":370.0},{\"API\":\"42-285-33615-00-00\",\"Month\":81,\"MonthlyOil\":1483.0,\"MonthlyGas\":636.0},{\"API\":\"42-285-33615-00-00\",\"Month\":82,\"MonthlyOil\":908.0,\"MonthlyGas\":395.0},{\"API\":\"42-285-33615-00-00\",\"Month\":83,\"MonthlyOil\":1110.0,\"MonthlyGas\":234.0},{\"API\":\"42-285-33615-00-00\",\"Month\":84,\"MonthlyOil\":419.0,\"MonthlyGas\":144.0},{\"API\":\"42-285-33615-00-00\",\"Month\":85,\"MonthlyOil\":1.0,\"MonthlyGas\":0.0},{\"API\":\"42-285-33615-00-00\",\"Month\":86,\"MonthlyOil\":1710.0,\"MonthlyGas\":508.0},{\"API\":\"42-285-33615-00-00\",\"Month\":87,\"MonthlyOil\":769.0,\"MonthlyGas\":311.0},{\"API\":\"42-285-33615-00-00\",\"Month\":88,\"MonthlyOil\":1091.0,\"MonthlyGas\":218.0},{\"API\":\"42-285-33615-00-00\",\"Month\":89,\"MonthlyOil\":0.0,\"MonthlyGas\":0.0},{\"API\":\"42-285-33615-00-00\",\"Month\":90,\"MonthlyOil\":0.0,\"MonthlyGas\":0.0}]},\"encoding\":{\"x\":{\"field\":\"Month\",\"type\":\"quantitative\"}},\"height\":500.0,\"resolve\":{\"scale\":{\"y\":\"independent\"}},\"width\":500.0,\"layer\":[{\"encoding\":{\"color\":{\"field\":\"API\",\"type\":\"nominal\"},\"y\":{\"axis\":{\"title\":\"MonthlyOil (BOPD)\",\"titleColor\":\"#00FF00\"},\"field\":\"MonthlyOil\",\"type\":\"quantitative\"}},\"mark\":{\"type\":\"line\",\"stroke\":\"#00FF00\"}},{\"encoding\":{\"color\":{\"field\":\"API\",\"type\":\"nominal\"},\"y\":{\"axis\":{\"title\":\"MonthlyGas (MSCFPD)\",\"titleColor\":\"#FF0000\"},\"field\":\"MonthlyGas\",\"type\":\"quantitative\"}},\"mark\":{\"type\":\"line\",\"stroke\":\"#FF0000\"}}]};\n",
       "      vegaEmbed('#vis1a842e78-5717-4357-9e40-07e913313871', vlSpec);\n",
       "    </script>\n",
       "  </body>\n",
       "</html>\n"
      ]
     },
     "execution_count": 14,
     "metadata": {},
     "output_type": "execute_result"
    }
   ],
   "source": [
    "chart"
   ]
  }
 ],
 "metadata": {
  "kernelspec": {
   "display_name": ".NET (C#)",
   "language": "C#",
   "name": ".net-csharp"
  },
  "language_info": {
   "file_extension": ".cs",
   "mimetype": "text/x-csharp",
   "name": "C#",
   "pygments_lexer": "csharp",
   "version": "8.0"
  }
 },
 "nbformat": 4,
 "nbformat_minor": 4
}
